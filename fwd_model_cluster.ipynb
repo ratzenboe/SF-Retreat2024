{
 "cells": [
  {
   "cell_type": "code",
   "outputs": [],
   "source": [
    "import pandas as pd\n",
    "import numpy as np\n",
    "import copy\n",
    "import imf\n",
    "import matplotlib.pyplot as plt"
   ],
   "metadata": {
    "collapsed": false,
    "ExecuteTime": {
     "end_time": "2024-04-03T08:55:58.724027Z",
     "start_time": "2024-04-03T08:55:57.727267Z"
    }
   },
   "id": "36ea6024911bfeab",
   "execution_count": 2
  },
  {
   "cell_type": "code",
   "outputs": [],
   "source": [
    "from astropy.coordinates import ICRS, Galactic\n",
    "from astropy import units as u\n",
    "\n",
    "\n",
    "def skycoord_from_galactic(data):\n",
    "    X, Y, Z, U, V, W = data.T\n",
    "    c = Galactic(\n",
    "        u=X * u.pc, v=Y * u.pc, w=Z * u.pc,\n",
    "        U=U * u.km / u.s, V=V * u.km / u.s, W=W * u.km / u.s,\n",
    "        representation_type=\"cartesian\",\n",
    "        # Velocity representation\n",
    "        differential_type=\"cartesian\",\n",
    "    )\n",
    "    c_icrs = c.transform_to(ICRS())\n",
    "    c_icrs.representation_type = 'spherical'\n",
    "    return c_icrs\n",
    "\n",
    "def cart2spher(data):\n",
    "    X, Y, Z, U, V, W = data.T\n",
    "    c = Galactic(\n",
    "        u=X * u.pc, v=Y * u.pc, w=Z * u.pc,\n",
    "        U=U * u.km / u.s, V=V * u.km / u.s, W=W * u.km / u.s,\n",
    "        representation_type=\"cartesian\",\n",
    "        # Velocity representation\n",
    "        differential_type=\"cartesian\",\n",
    "    )\n",
    "    c = c.transform_to(ICRS())\n",
    "    c.representation_type = 'spherical'\n",
    "    ra, dec, dist = c.ra.value, c.dec.value, c.distance.value\n",
    "    cos_dec = np.cos(np.radians(dec))\n",
    "    pmra, pmdec, rv = c.pm_ra.value * cos_dec, c.pm_dec.value, c.radial_velocity.value\n",
    "    parallax = 1000 / dist\n",
    "    return np.vstack([ra, dec, parallax, pmra, pmdec, rv]).T\n",
    "\n",
    "def spher2cart(data):\n",
    "    ra, dec, parallax, pmra, pmdec, rv = data.T\n",
    "    dist = 1000 / parallax\n",
    "    dist[dist < 0] = 1e4\n",
    "    c = ICRS(\n",
    "        ra=ra * u.deg, dec=dec * u.deg, distance=dist * u.pc,\n",
    "        pm_ra_cosdec=pmra * u.mas / u.yr,\n",
    "        pm_dec=pmdec * u.mas / u.yr,\n",
    "        radial_velocity=rv * u.km / u.s,\n",
    "    )\n",
    "    c = c.transform_to(Galactic())\n",
    "    c.representation_type = 'cartesian'\n",
    "    return np.vstack([c.u.value, c.v.value, c.w.value, c.U.value, c.V.value, c.W.value]).T"
   ],
   "metadata": {
    "collapsed": false,
    "ExecuteTime": {
     "end_time": "2024-04-03T08:56:00.603762Z",
     "start_time": "2024-04-03T08:56:00.455674Z"
    }
   },
   "id": "3d3615fe9496d81f",
   "execution_count": 3
  },
  {
   "cell_type": "code",
   "outputs": [],
   "source": [
    "import re\n",
    "import os\n",
    "import glob\n",
    "from scipy.interpolate import LinearNDInterpolator\n",
    "\n",
    "\n",
    "# ----- Corrective factors for extinction correction -----\n",
    "corr_Gmag = 0.83627\n",
    "corr_BPmag = 1.08337\n",
    "corr_RPmag = 0.63439\n",
    "corr_bprp = corr_BPmag - corr_RPmag\n",
    "corr_grp = corr_Gmag - corr_RPmag\n",
    "# --------------------------------------------------------\n",
    "# ------ Path files ------\n",
    "parsec_files = '/Users/ratzenboe/Documents/work/code/Chronos/data/parsec_files/'\n",
    "baraffe_files = '/Users/ratzenboe/Documents/work/code/Chronos/data/baraffe_files/'\n",
    "# -----------------------\n",
    "\n",
    "\n",
    "class ICBase:\n",
    "    def __init__(self):\n",
    "        self.data = None\n",
    "        self.colnames = None\n",
    "        self.l_interp = None\n",
    "\n",
    "    def apply_extinction_by_color(self, abs_mag_g, mag_bp, mag_rp, a_v):\n",
    "        \"\"\"Apply extinction to individual isochrone\"\"\"\n",
    "        if isinstance(a_v, np.ndarray):\n",
    "            av_add = a_v[None, :]\n",
    "        elif isinstance(a_v, (list, tuple)):\n",
    "            av_add = np.array(a_v)[None, :]\n",
    "        else:\n",
    "            av_add = a_v\n",
    "        # Compute extincted magnitudes and colors\n",
    "        extincted_mag_g = abs_mag_g + av_add * corr_Gmag\n",
    "        extincted_mag_bp = mag_bp + av_add * corr_BPmag\n",
    "        extincted_mag_rp = mag_rp + av_add * corr_RPmag\n",
    "        return extincted_mag_g, extincted_mag_bp, extincted_mag_rp\n",
    "    \n",
    "    def fit_interpolator(self, n_skip=10):\n",
    "        df_subset = self.data[::n_skip]\n",
    "        cols_input = [self.colnames['mass'], self.colnames['age'], self.colnames['metal']]\n",
    "        cols_predict = [\n",
    "            self.colnames['gmag'], self.colnames['bp'], self.colnames['rp'], \n",
    "            self.colnames['logg'], self.colnames['teff']\n",
    "        ] \n",
    "        X = df_subset[cols_input].values\n",
    "        y = df_subset[cols_predict].values\n",
    "        self.l_interp = LinearNDInterpolator(X, y)\n",
    "    \n",
    "    def query_cmd(self, mass, age, metal, av=0):\n",
    "        if not isinstance(mass, np.ndarray):\n",
    "            mass = np.array([mass])\n",
    "            age = np.array([age])\n",
    "            metal = np.array([metal])\n",
    "        # Query the interpolator\n",
    "        X_query = np.vstack([mass, age, metal]).T\n",
    "        # Interpolate\n",
    "        abs_mag_g, abs_mag_bp, abs_mag_rp, logg, teff = self.l_interp(X_query).T\n",
    "        # Apply extinction\n",
    "        # abs_mag_g_ext, mag_bp_ext, mag_rp_ext = self.apply_extinction_by_color(\n",
    "        #     abs_mag_g, mag_bp, mag_rp, av\n",
    "        # )\n",
    "        df = pd.DataFrame(\n",
    "            np.vstack([abs_mag_g, abs_mag_bp, abs_mag_rp, logg, teff]).T,\n",
    "            columns=['M_G', 'G_BP', 'G_RP', 'logg', 'teff']\n",
    "        )\n",
    "        return df\n",
    "\n",
    "\n",
    "class PARSEC(ICBase):\n",
    "    \"\"\"Handling Gaia (E)DR3 photometric system\"\"\"\n",
    "    def __init__(self, dir_path, file_ending='dat'): #, nb_interpolated=400):\n",
    "        super().__init__()\n",
    "        # Save some PARSEC internal column names\n",
    "        self.comment = r'#'\n",
    "        self.colnames = {\n",
    "            'mass': 'Mass',\n",
    "            'logg': 'logg',\n",
    "            'teff': 'logTe',\n",
    "            'age': 'logAge',\n",
    "            'metal': 'MH',\n",
    "            'gmag': 'Gmag',\n",
    "            'bp': 'G_BPmag',\n",
    "            'rp': 'G_RPmag',\n",
    "            'header_start': '# Zini'\n",
    "        }\n",
    "        self.post_process = {self.colnames['teff']: lambda x: 10 ** x}\n",
    "        # Save data and rename columns\n",
    "        self.dir_path = dir_path\n",
    "        self.flist_all = glob.glob(os.path.join(dir_path, f'*.{file_ending}'))\n",
    "        self.data = self.read_files(self.flist_all)\n",
    "        # Prepare interpolation method\n",
    "        self.fit_interpolator(n_skip=5)\n",
    "\n",
    "    def read_files(self, flist):\n",
    "        frames = []\n",
    "        for fname in flist:\n",
    "            df_iso = self.read(fname)\n",
    "            # Postprocessing\n",
    "            for col, func in self.post_process.items():\n",
    "                df_iso[col] = df_iso[col].apply(func)\n",
    "            frames.append(df_iso)\n",
    "        print('PARSEC isochrones read and processed!')\n",
    "        return pd.concat(frames)\n",
    "\n",
    "    def read(self, fname):\n",
    "        \"\"\"\n",
    "        Fetches the coordinates of a single isochrone from a given file and retrurns it\n",
    "        :param fname: File name containing information on a single isochrone\n",
    "        :return: x-y-Coordinates of a chosen isochrone, age, metallicity\n",
    "        \"\"\"\n",
    "        df_iso = pd.read_csv(fname, delim_whitespace=True, comment=self.comment, header=None)\n",
    "        # Read first line and extract column names\n",
    "        with open(fname) as f:\n",
    "            for line in f:\n",
    "                if line.startswith(self.colnames['header_start']):\n",
    "                    break\n",
    "        line = re.sub(r'\\t', ' ', line)  # remove tabs\n",
    "        line = re.sub(r'\\n', ' ', line)  # remove newline at the end\n",
    "        line = re.sub(self.comment, ' ', line)  # remove '#' at the beginning\n",
    "        col_names = [elem for elem in line.split(' ') if elem != '']\n",
    "        # Add column names\n",
    "        df_iso.columns = col_names\n",
    "        return df_iso\n",
    "\n",
    "\n",
    "class Baraffe15(ICBase):\n",
    "    \"\"\"Handling Gaia (E)DR3 photometric system\"\"\"\n",
    "    def __init__(self, dir_path, file_ending='GAIA'):\n",
    "        super().__init__()\n",
    "        # Save some PARSEC internal column names\n",
    "        self.comment = r'!'\n",
    "        self.colnames = {\n",
    "            'mass': 'M/Ms',\n",
    "            'logg': 'g',\n",
    "            'teff': 'Teff',\n",
    "            'age': 'logAge',\n",
    "            'metal': 'feh',\n",
    "            'gmag': 'G',\n",
    "            'bp': 'G_BP',\n",
    "            'rp': 'G_RP',\n",
    "            'header_start': '! M/Ms',\n",
    "            'age_start': '!  t (Gyr) ='\n",
    "        }\n",
    "        # Save data and rename columns\n",
    "        self.dir_path = dir_path\n",
    "        self.flist_all = glob.glob(os.path.join(dir_path, f'*.{file_ending}'))\n",
    "        self.data = self.read_files(self.flist_all)\n",
    "        # Prepare interpolation method\n",
    "        self.fit_interpolator(n_skip=1)\n",
    "\n",
    "    def read_files(self, flist):\n",
    "        frames = []\n",
    "        for fname in flist:\n",
    "            df_iso = self.read(fname)\n",
    "            frames.append(df_iso)\n",
    "        print('Baraffe+15 isochrones read and processed!')\n",
    "        if len(frames) == 1:\n",
    "            return frames[0]\n",
    "        return pd.concat(frames)\n",
    "\n",
    "    def read(self, fname):\n",
    "        \"\"\"\n",
    "        Fetches the coordinates of a single isochrone from a given file and retrurns it\n",
    "        :param fname: File name containing information on a single isochrone\n",
    "        :return: x-y-Coordinates of a chosen isochrone, age, metallicity\n",
    "        \"\"\"\n",
    "        df_iso = pd.read_csv(fname, delim_whitespace=True, header=None, comment=self.comment)\n",
    "        # Read first line and extract column names\n",
    "        with open(fname) as f:\n",
    "            for line in f:\n",
    "                if line.startswith(self.colnames['header_start']):\n",
    "                    break\n",
    "        line = re.sub(r'\\t', ' ', line)  # remove tabs\n",
    "        line = re.sub(r'\\n', ' ', line)  # remove newline at the end\n",
    "        line = re.sub(self.comment, ' ', line)  # remove '!' at the beginning\n",
    "        col_names = [elem for elem in line.split(' ') if elem != '']\n",
    "        # Add column names\n",
    "        df_iso.columns = col_names\n",
    "        # Post process: add ages\n",
    "        counter = 0\n",
    "        nb_entries_per_isochrone = []\n",
    "        logAge_info = []\n",
    "        with open(fname) as f:\n",
    "            line_info = []\n",
    "            for i, line in enumerate(f):\n",
    "                if line.startswith('!---'):\n",
    "                    counter += 1\n",
    "                    if counter == 2:\n",
    "                        line_info.append(i + 1)\n",
    "                    if counter == 3:\n",
    "                        line_info.append(i - 1)\n",
    "\n",
    "                if line.startswith(self.colnames['age_start']):\n",
    "                    line = re.sub(r'\\t', ' ', line)  # remove tabs\n",
    "                    age = float(re.findall(\"\\d+\\.\\d+\", line)[0])\n",
    "                    logAge = np.round(np.log10(age * 10**9), decimals=2)\n",
    "                    logAge_info.append(logAge)\n",
    "                    # Save infos\n",
    "                    if len(line_info) > 0:\n",
    "                        counter = 0\n",
    "                        nb_entries_per_isochrone.append(line_info[1] - line_info[0])\n",
    "                        line_info = []\n",
    "        nb_entries_per_isochrone.append(line_info[1] - line_info[0])\n",
    "        # --- Add age ---\n",
    "        df_iso[self.colnames['age']] = -1.0\n",
    "        rolling_sum = 0\n",
    "        for entry, logAge in zip(nb_entries_per_isochrone, logAge_info):\n",
    "            end = entry + rolling_sum + 1\n",
    "            df_iso[self.colnames['age']].iloc[rolling_sum:end] = logAge\n",
    "            rolling_sum = end\n",
    "        # --- Add metal (at least 2 points to allow interpolation) ---\n",
    "        # todo: fix interpolator to a single argument\n",
    "        df_iso[self.colnames['metal']] = -1.\n",
    "        df_iso_1 = copy.deepcopy(df_iso)\n",
    "        df_iso_1[self.colnames['metal']] = 1.\n",
    "        data = pd.concat([df_iso, df_iso_1])\n",
    "        return data\n",
    "    \n",
    "    \n",
    "class ClusterPhotometry:\n",
    "    def __init__(self, parsec_folder, baraffe_folder, M_G_threshold=5):\n",
    "        self.p_obj = PARSEC(parsec_folder)\n",
    "        self.b_obj = Baraffe15(baraffe_folder)\n",
    "        self.M_G_threshold = M_G_threshold\n",
    "        self.source_data_photometry = None\n",
    "        self.data_photometry_binaries = None\n",
    "        self.data_phot = None\n",
    "        \n",
    "    def make_photometry(self, cluster_mass, logAge, feh=0, f_bin_total=0.5):\n",
    "        mass_samples = imf.make_cluster(cluster_mass)\n",
    "        mass_samples = np.sort(mass_samples)\n",
    "        logAge_samples = np.full_like(mass_samples, logAge)\n",
    "        feh_samples = np.full_like(mass_samples, feh)\n",
    "        \n",
    "        df_parsec = self.p_obj.query_cmd(mass_samples, logAge_samples, feh_samples)\n",
    "        df_baraffe = self.b_obj.query_cmd(mass_samples, logAge_samples, feh_samples)\n",
    "        df_parsec['mass'] = mass_samples\n",
    "        df_baraffe['mass'] = mass_samples\n",
    "        \n",
    "        idx_parsec = np.where(df_parsec.M_G < self.M_G_threshold)[0].min()\n",
    "        # Use Baraffe for lower main sequence, PARSEC for upper MS\n",
    "        self.source_data_photometry = pd.concat([df_baraffe[:idx_parsec], df_parsec[idx_parsec:]])\n",
    "        if f_bin_total > 0:\n",
    "            self.add_binaries(f_bin_total)\n",
    "            self.data_phot = self.data_photometry_binaries\n",
    "            return self.data_photometry_binaries\n",
    "        else:\n",
    "            self.data_phot = self.source_data_photometry\n",
    "            return self.source_data_photometry\n",
    "    \n",
    "    @staticmethod\n",
    "    def add_magnitudes(*args):\n",
    "        return -2.5 * np.log10(np.sum([10**(-0.4 * M_i) for M_i in args], axis=0)) \n",
    "    \n",
    "    def create_binaries_pairs(self, f_bin_total):\n",
    "        n = self.source_data_photometry.shape[0]\n",
    "        random_idx_pairs = np.array([[i, j] for i, j in zip(np.arange(n),  np.random.permutation(n))])\n",
    "        rand_pairs_boolarr = np.random.uniform(0, 1, n) < f_bin_total\n",
    "        random_idx_pairs_filtered = random_idx_pairs[rand_pairs_boolarr]\n",
    "        # Sort by joint mass\n",
    "        random_idx_pairs_filtered = random_idx_pairs_filtered[random_idx_pairs_filtered.sum(axis=1).argsort()][::-1]\n",
    "        all_pairs_final = []\n",
    "        unique_sources = set()\n",
    "        for i, j in random_idx_pairs_filtered:\n",
    "            if (i not in unique_sources) and (j not in unique_sources):\n",
    "                all_pairs_final.append([i, j])\n",
    "                unique_sources.add(i)\n",
    "                unique_sources.add(j)\n",
    "        return np.array(all_pairs_final)\n",
    "        \n",
    "    def add_binaries(self, f_bin_total):\n",
    "        all_pairs_final = self.create_binaries_pairs(f_bin_total)\n",
    "        max_nb = np.max(all_pairs_final, axis=1)\n",
    "        min_nb = np.min(all_pairs_final, axis=1)\n",
    "        # Create copy to store binaries in\n",
    "        self.data_photometry_binaries = self.source_data_photometry.copy()\n",
    "        # Get photometry of given ids\n",
    "        df_max = self.data_photometry_binaries.loc[max_nb]\n",
    "        df_min = self.data_photometry_binaries.loc[min_nb]\n",
    "        # Compute the combined photometry\n",
    "        for col in ['M_G', 'G_BP', 'G_RP']:\n",
    "            self.data_photometry_binaries.loc[max_nb, col] = self.add_magnitudes(\n",
    "                df_max[col].values, df_min[col].values\n",
    "            )\n",
    "        # Compute the combined logg and teff\n",
    "        for col in ['logg', 'teff']:\n",
    "            self.data_photometry_binaries.loc[max_nb, col] = np.max(\n",
    "                np.vstack([df_max[col].values, df_min[col].values]), axis=0\n",
    "            )\n",
    "        # Compute combined mass\n",
    "        self.data_photometry_binaries.loc[max_nb, 'mass'] = df_max['mass'].values #+ df_min['mass'].values\n",
    "        # Save is binary as columns\n",
    "        self.data_photometry_binaries['is_binary'] = 0\n",
    "        self.data_photometry_binaries.loc[max_nb, 'is_binary'] = 1\n",
    "        self.data_photometry_binaries.loc[min_nb, 'is_binary'] = -1\n",
    "        # Remove min_nb from the source data\n",
    "        self.data_photometry_binaries = self.data_photometry_binaries.drop(min_nb)\n",
    "        return"
   ],
   "metadata": {
    "collapsed": false,
    "ExecuteTime": {
     "end_time": "2024-04-03T08:56:01.128079Z",
     "start_time": "2024-04-03T08:56:01.112405Z"
    }
   },
   "id": "4a5c90609ee36927",
   "execution_count": 4
  },
  {
   "cell_type": "markdown",
   "source": [
    "# Build cluster sampler"
   ],
   "metadata": {
    "collapsed": false
   },
   "id": "be01c66cf138c9e4"
  },
  {
   "cell_type": "code",
   "outputs": [],
   "source": [
    "from astropy.coordinates import ICRS, Galactic, SkyCoord\n",
    "from astropy import units as u\n",
    "\n",
    "\n",
    "class ClusterSampler(ClusterPhotometry): \n",
    "    def __init__(self, mu, cov, mass, logAge, feh, f_bin, parsec_folder, baraffe_folder, M_G_threshold=5):\n",
    "        super().__init__(parsec_folder, baraffe_folder, M_G_threshold)\n",
    "        # super().__init__(astrometric_fname, rv_fname)\n",
    "        self.cluster_mu = mu\n",
    "        self.cluster_cov = cov\n",
    "        self.cluster_mass = mass\n",
    "        self.cluster_logAge = logAge\n",
    "        self.cluster_feh = feh\n",
    "        self.f_bin_total = f_bin\n",
    "        # Source data\n",
    "        self.cluster_size = None\n",
    "        # Simpulated cluster data\n",
    "        self.skycoord = None\n",
    "        self.X_gal = None\n",
    "        self.X_icrs = None\n",
    "        # Observed data\n",
    "        # self.X_obs_gal = None\n",
    "        # self.X_obs_icrs = None\n",
    "        \n",
    "    def set_cluster_params(self, mu, cov, mass, logAge, feh, f_bin):\n",
    "        self.cluster_mu = mu\n",
    "        self.cluster_cov = cov\n",
    "        self.cluster_mass = mass\n",
    "        self.cluster_logAge = logAge\n",
    "        self.cluster_feh = feh\n",
    "        self.f_bin_total = f_bin\n",
    "        \n",
    "    @staticmethod\n",
    "    def skycoord_from_galactic(data):\n",
    "        X, Y, Z, U, V, W = data.T\n",
    "        c = Galactic(\n",
    "            u=X * u.pc, v=Y * u.pc, w=Z * u.pc,\n",
    "            U=U * u.km / u.s, V=V * u.km / u.s, W=W * u.km / u.s,\n",
    "            representation_type=\"cartesian\",\n",
    "            # Velocity representation\n",
    "            differential_type=\"cartesian\",\n",
    "        )\n",
    "        c_icrs = c.transform_to(ICRS())\n",
    "        c_icrs.representation_type = 'spherical'\n",
    "        skycoords = SkyCoord(c_icrs)\n",
    "        return skycoords\n",
    "        \n",
    "    def simulate_cluster(self):\n",
    "        __data = self.make_photometry(self.cluster_mass, self.cluster_logAge, self.cluster_feh, self.f_bin_total)\n",
    "        self.cluster_size = __data.shape[0]\n",
    "        # Create cluster data in XYZ+UVW\n",
    "        self.X_gal = pd.DataFrame(\n",
    "            np.random.multivariate_normal(self.cluster_mu, self.cluster_cov, self.cluster_size),\n",
    "            columns=['X', 'Y', 'Z', 'U', 'V', 'W']\n",
    "        )\n",
    "        # Convert to ICRS\n",
    "        self.skycoord = self.skycoord_from_galactic(self.X_gal.values)\n",
    "    \n",
    "        # Simulate errors\n",
    "        # self.simulate_errors(self.cluster_size)\n",
    "        # # Convolve the data with measurement uncertainties\n",
    "        # self.X_obs_icrs = self.convolve(self.X_icrs)\n",
    "        # self.X_obs_gal = spher2cart(self.X_obs_icrs)\n",
    "        return"
   ],
   "metadata": {
    "collapsed": false,
    "ExecuteTime": {
     "end_time": "2024-04-03T08:56:02.117300Z",
     "start_time": "2024-04-03T08:56:02.113328Z"
    }
   },
   "id": "98664c9fbf343379",
   "execution_count": 5
  },
  {
   "cell_type": "code",
   "outputs": [
    {
     "name": "stdout",
     "output_type": "stream",
     "text": [
      "PARSEC isochrones read and processed!\n",
      "Baraffe+15 isochrones read and processed!\n"
     ]
    }
   ],
   "source": [
    "cluster_kwargs = dict(\n",
    "    mu=[10, 10, -10, 20, 20, -10],\n",
    "    cov=np.eye(6),\n",
    "    mass=1e3,\n",
    "    logAge=7.2,\n",
    "    feh=0,\n",
    "    f_bin=0.1,\n",
    ")\n",
    "\n",
    "cs = ClusterSampler(\n",
    "    **cluster_kwargs,\n",
    "    parsec_folder=parsec_files,\n",
    "    baraffe_folder=baraffe_files,\n",
    "    M_G_threshold=5\n",
    ")"
   ],
   "metadata": {
    "collapsed": false,
    "ExecuteTime": {
     "end_time": "2024-04-03T08:56:08.527131Z",
     "start_time": "2024-04-03T08:56:02.727799Z"
    }
   },
   "id": "841cd27ecbe55dbe",
   "execution_count": 6
  },
  {
   "cell_type": "code",
   "outputs": [
    {
     "name": "stdout",
     "output_type": "stream",
     "text": [
      "Total cluster mass is 999.737 (limit was 1000)\n",
      "CPU times: user 1.31 s, sys: 3.82 ms, total: 1.32 s\n",
      "Wall time: 445 ms\n"
     ]
    }
   ],
   "source": [
    "%%time\n",
    "\n",
    "cluster_kwargs = dict(\n",
    "    mu=[300, 200, -100, 20, 20, -10],\n",
    "    cov=np.eye(6),\n",
    "    mass=1e3,\n",
    "    logAge=7.2,\n",
    "    feh=0,\n",
    "    f_bin=0.3,\n",
    ")\n",
    "\n",
    "cs.set_cluster_params(**cluster_kwargs)\n",
    "cs.simulate_cluster()"
   ],
   "metadata": {
    "collapsed": false,
    "ExecuteTime": {
     "end_time": "2024-04-03T08:56:11.053333Z",
     "start_time": "2024-04-03T08:56:10.605394Z"
    }
   },
   "id": "8058fd6c25bfd51b",
   "execution_count": 7
  },
  {
   "cell_type": "code",
   "outputs": [
    {
     "data": {
      "text/plain": "0.3"
     },
     "execution_count": 8,
     "metadata": {},
     "output_type": "execute_result"
    }
   ],
   "source": [
    "cs.f_bin_total"
   ],
   "metadata": {
    "collapsed": false,
    "ExecuteTime": {
     "end_time": "2024-04-03T08:56:12.109449Z",
     "start_time": "2024-04-03T08:56:12.106431Z"
    }
   },
   "id": "b753b027190d8f66",
   "execution_count": 8
  },
  {
   "cell_type": "code",
   "outputs": [
    {
     "data": {
      "text/plain": "(0.0, 1.0)"
     },
     "execution_count": 9,
     "metadata": {},
     "output_type": "execute_result"
    },
    {
     "data": {
      "text/plain": "<Figure size 640x480 with 1 Axes>",
      "image/png": "[encoded data removed]"
     },
     "metadata": {},
     "output_type": "display_data"
    }
   ],
   "source": [
    "# Check binary fraction per mass bin\n",
    "nb_bins, bins = np.histogram(cs.data_photometry_binaries.mass, bins=np.logspace(-2, 2, 30))\n",
    "\n",
    "binary_fraction = []\n",
    "mass_max_companion = []\n",
    "\n",
    "for bin_lo, bin_hi in zip(bins[:-1], bins[1:]):\n",
    "    mask = (cs.data_photometry_binaries.mass >= bin_lo) & (cs.data_photometry_binaries.mass < bin_hi)\n",
    "    n_tot = np.sum(mask)\n",
    "    n_binary = np.sum(cs.data_photometry_binaries.is_binary[mask] == 1)\n",
    "    bin_center = np.mean([bin_lo, bin_hi])\n",
    "    if n_tot > 2:\n",
    "        binary_fraction.append(n_binary / n_tot)\n",
    "        mass_max_companion.append(bin_center)\n",
    "        \n",
    "plt.scatter(mass_max_companion, binary_fraction)\n",
    "plt.gca().set_xscale('log')\n",
    "plt.gca().set_xlim(0.01, 100)\n",
    "plt.xlabel('Mass [M$_\\odot$]')\n",
    "plt.ylabel('Binary fraction')\n",
    "plt.ylim(0, 1)"
   ],
   "metadata": {
    "collapsed": false,
    "ExecuteTime": {
     "end_time": "2024-04-03T08:56:14.101679Z",
     "start_time": "2024-04-03T08:56:13.924047Z"
    }
   },
   "id": "d53af83119de504d",
   "execution_count": 9
  },
  {
   "cell_type": "code",
   "outputs": [
    {
     "data": {
      "text/plain": "<matplotlib.colorbar.Colorbar at 0x31d906850>"
     },
     "execution_count": 10,
     "metadata": {},
     "output_type": "execute_result"
    },
    {
     "data": {
      "text/plain": "<Figure size 500x700 with 2 Axes>",
      "image/png": "[encoded data removed]"
     },
     "metadata": {},
     "output_type": "display_data"
    }
   ],
   "source": [
    "dat = cs.data_photometry_binaries.copy()\n",
    "dat_orig = cs.source_data_photometry.copy()\n",
    "\n",
    "plt.figure(figsize=(5, 7))\n",
    "plt.scatter(dat.G_BP - dat.G_RP, dat.M_G, s=1, c=dat.is_binary, cmap='coolwarm')\n",
    "# plt.scatter(dat_orig.G_BP - dat_orig.G_RP, dat_orig.M_G, s=10)\n",
    "plt.gca().invert_yaxis()\n",
    "plt.colorbar()"
   ],
   "metadata": {
    "collapsed": false,
    "ExecuteTime": {
     "end_time": "2024-04-03T08:56:15.333991Z",
     "start_time": "2024-04-03T08:56:15.237953Z"
    }
   },
   "id": "d62364751392ec24",
   "execution_count": 10
  },
  {
   "cell_type": "markdown",
   "source": [
    "# Uncertainty classification"
   ],
   "metadata": {
    "collapsed": false
   },
   "id": "fb9f1faaafc89be5"
  },
  {
   "cell_type": "markdown",
   "source": [
    "## Determine the number of observations"
   ],
   "metadata": {
    "collapsed": false
   },
   "id": "e55a0b257bb0afeb"
  },
  {
   "cell_type": "code",
   "outputs": [],
   "source": [
    "from pygaia.errors.spectroscopic import radial_velocity_uncertainty\n",
    "from pygaia.errors.astrometric import parallax_uncertainty\n",
    "import scipy.interpolate as interpolate\n",
    "from gaiaunlimited.selectionfunctions import DR3SelectionFunctionTCG\n",
    "from gaiaunlimited.scanninglaw import GaiaScanningLaw\n",
    "\n",
    "\n",
    "class Edr3LogMagUncertainty:\n",
    "    \"\"\"\n",
    "    Estimate the log(mag) vs mag uncertainty for G, G_BP, G_RP based on Gaia EDR3 photometry.\n",
    "    \"\"\"\n",
    "    def __init__(self, spline_csv, n_obs=200):\n",
    "        \"\"\"Usage\n",
    "        >>> u = Edr3LogMagUncertainty('LogErrVsMagSpline.csv')\n",
    "        >>> gmags = np.array([5, 10, 15, 20])\n",
    "        >>> g200 = u.log_mag_err('g', gmags, 200)\n",
    "        \"\"\"\n",
    "        _df = pd.read_csv(spline_csv)\n",
    "        splines = dict()\n",
    "        splines['g'] = self.__init_spline(_df, 'knots_G', 'coeff_G')\n",
    "        splines['bp'] = self.__init_spline(_df, 'knots_BP', 'coeff_BP')\n",
    "        splines['rp'] = self.__init_spline(_df, 'knots_RP', 'coeff_RP')\n",
    "        self.__splines = splines\n",
    "        self.__nobs_baseline = {'g': 200, 'bp': 20, 'rp': 20}\n",
    "        self.n_obs = self.set_nobs(n_obs)\n",
    "        \n",
    "    def set_nobs(self, n_obs):\n",
    "        \"\"\"Set the number of observations for G, G_BP, G_RP bands.\n",
    "        The numbers are proportional to the number of matched_transits in Gaia (can be computed via GaiaScanningLaw).\n",
    "        \"\"\"\n",
    "        self.n_obs = None\n",
    "        if isinstance(n_obs, int):\n",
    "            if n_obs > 0:\n",
    "                self.n_obs = {\n",
    "                    'g': n_obs * 8.5, 'bp': n_obs * 0.95, 'rp': n_obs * 0.91\n",
    "                }\n",
    "        elif isinstance(n_obs, np.ndarray):\n",
    "            self.n_obs = {}\n",
    "            self.n_obs['g'] = n_obs * 8.5\n",
    "            self.n_obs['bp'] = n_obs * 0.95\n",
    "            self.n_obs['rp'] = n_obs * 0.91\n",
    "        return\n",
    "        \n",
    "    def __init_spline(self, df, col_knots, col_coeff):\n",
    "        __ddff = df[[col_knots, col_coeff]].dropna()\n",
    "        return interpolate.BSpline(__ddff[col_knots], __ddff[col_coeff], 3, extrapolate=False)\n",
    "\n",
    "    def log_mag_err(self, band, mag_val, n_obs=None):\n",
    "        if n_obs is not None:\n",
    "            self.set_nobs(n_obs)\n",
    "        # If number of observations was not passed\n",
    "        if self.n_obs is None:\n",
    "            return 10**self.__splines[band](mag_val)\n",
    "        \n",
    "        return 10**(self.__splines[band](mag_val) - np.log10(np.sqrt(self.n_obs[band]) / np.sqrt(self.__nobs_baseline[band])))\n",
    "\n",
    "\n",
    "class PhotHandler:\n",
    "    def __init__(self, cluster_object, spline_csv):\n",
    "        self.cluster_object = cluster_object\n",
    "        print('Initializing the scanning law object...')\n",
    "        self.sl = GaiaScanningLaw('dr3_nominal')\n",
    "        self.n_obs = self.query_nobs()\n",
    "        # Compute apparent magnitude uncertainties\n",
    "        self.spline_csv = spline_csv\n",
    "        self.u = None\n",
    "        self.g_mag_err = None\n",
    "        self.bp_mag_err = None\n",
    "        self.rp_mag_err = None\n",
    "        self.compute_uncertainties_phot()\n",
    "        \n",
    "    def compute_uncertainties_phot(self):\n",
    "        self.u = Edr3LogMagUncertainty(self.spline_csv, self.n_obs)\n",
    "        self.g_mag_err = self.u.log_mag_err('g', self.g_mag())\n",
    "        self.bp_mag_err = self.u.log_mag_err('bp', self.bp_mag())\n",
    "        self.rp_mag_err = self.u.log_mag_err('rp', self.rp_mag())\n",
    "        \n",
    "    def M_G(self):\n",
    "        return self.cluster_object.data_phot['M_G'].values\n",
    "    \n",
    "    def M_Gbp(self):\n",
    "        return self.cluster_object.data_phot['G_BP'].values\n",
    "    \n",
    "    def M_Grp(self):\n",
    "        return self.cluster_object.data_phot['G_RP'].values\n",
    "    \n",
    "    def teff(self):\n",
    "        return self.cluster_object.data_phot['teff'].values\n",
    "    \n",
    "    def logg(self):\n",
    "        return self.cluster_object.data_phot['logg'].values\n",
    "    \n",
    "    def apparent_mag(self, M):\n",
    "        distance = self.cluster_object.skycoord.distance.value\n",
    "        return M + 5 * np.log10(distance) - 5\n",
    "\n",
    "    def g_mag(self):\n",
    "        return self.apparent_mag(self.M_G())\n",
    "    \n",
    "    def bp_mag(self):\n",
    "        return self.apparent_mag(self.M_Gbp())\n",
    "    \n",
    "    def rp_mag(self):\n",
    "        return self.apparent_mag(self.M_Grp())\n",
    "    \n",
    "    def query_nobs(self):\n",
    "        ra = self.cluster_object.skycoord.ra.value\n",
    "        dec = self.cluster_object.skycoord.dec.value\n",
    "        # Define helper function\n",
    "        def get_totaln(*args):\n",
    "            return sum(self.sl.query(*args, count_only=True))\n",
    "        # Query the number of observations\n",
    "        n_obs = [get_totaln(*args) for args in zip(ra, dec)]\n",
    "        return np.array(n_obs)\n",
    "    \n",
    "\n",
    "class GaiaUncertainties(PhotHandler):\n",
    "    def __init__(self, cluster_object: ClusterSampler, spline_csv: str, release: str='dr3'):\n",
    "        \"\"\"Takes effective temperature, surface gravity, absolute G, BP, RP magnitudes, and the distance.\n",
    "        Computes parallax, radial velocity, and proper motion uncertainties.\n",
    "        See: https://www.cosmos.esa.int/web/gaia/science-performance#spectroscopic%20performance\n",
    "        \"\"\"\n",
    "        super().__init__(cluster_object, spline_csv)\n",
    "        self.release = release\n",
    "        # G_RVS maginitude\n",
    "        self.g_rvs = self.compute_grvs(self.g_mag(), self.rp_mag())\n",
    "        # Uncertainties to compute\n",
    "        self.ra_err = None\n",
    "        self.dec_err = None\n",
    "        self.plx_err = None\n",
    "        self.pmra_err = None\n",
    "        self.pmdec_err = None\n",
    "        self.rv_err = None\n",
    "        self.completeness = None\n",
    "        # Compute uncertainties\n",
    "        self.compute_uncertainties_astrometry()\n",
    "        # Estimate completeness\n",
    "        print('Estimating completeness...')\n",
    "        self.estimate_completeness()\n",
    "        \n",
    "    def new_cluster(self, cluster_object):\n",
    "        self.cluster_object = cluster_object\n",
    "        self.n_obs = self.query_nobs()\n",
    "        self.compute_uncertainties_phot()\n",
    "        self.compute_uncertainties_astrometry()\n",
    "        self.estimate_completeness()\n",
    "        return\n",
    "        \n",
    "    def estimate_completeness(self):\n",
    "        \"\"\"Estimate the completeness of the cluster\"\"\"\n",
    "        # Compute the completeness\n",
    "        mapHpx7 = DR3SelectionFunctionTCG()\n",
    "        self.completeness = mapHpx7.query(self.cluster_object.skycoord, self.g_mag())\n",
    "        return \n",
    "\n",
    "    def compute_parallax_uncertainty(self):\n",
    "        \"\"\"Compute parallax uncertainty in mas\n",
    "        Function parallax_uncertainty returns paralax uncertainty in µas\n",
    "        \"\"\"\n",
    "        if self.n_obs is None:\n",
    "            self.plx_err = parallax_uncertainty(self.g_mag(), release=self.release) / 1_000.\n",
    "        else:\n",
    "            __nobs_baseline_plx = 200\n",
    "            __nobs_astrometric_good = 8.3 * self.n_obs\n",
    "            n_obs_relative = __nobs_astrometric_good / __nobs_baseline_plx\n",
    "            self.plx_err = parallax_uncertainty(self.g_mag(), release=self.release) / 1_000. / np.sqrt(n_obs_relative)\n",
    "        return\n",
    "    \n",
    "    def compute_uncertainties_astrometry(self):\n",
    "        \"\"\"Compute uncertainties for the astrometric parameters\n",
    "        For the conversion factors see: \n",
    "            https://www.cosmos.esa.int/web/gaia/science-performance#spectroscopic%20performance\n",
    "        \"\"\"\n",
    "        self.compute_parallax_uncertainty()\n",
    "        self.ra_err = 0.8 * self.plx_err\n",
    "        self.dec_err = 0.7 * self.plx_err\n",
    "        self.pmra_err = 1.03 * self.plx_err\n",
    "        self.pmdec_err = 0.89 * self.plx_err\n",
    "        self.rv_err = radial_velocity_uncertainty(self.g_mag(), self.teff(), self.logg(), release=self.release)\n",
    "        return\n",
    "\n",
    "    @staticmethod\n",
    "    def compute_grvs(G, Grp):\n",
    "        g_rp = G - Grp\n",
    "        f1_g_rvs = -0.0397 - 0.2852*g_rp - 0.033*g_rp**2 - 0.0867*g_rp**3\n",
    "        f2_g_rvs = -4.0618 + 10.0187*g_rp - 9.0532*g_rp**2 + 2.6089*g_rp**3\n",
    "        # functions valid within the following ranges\n",
    "        range_1 = g_rp < 1.2\n",
    "        range_2 = 1.2 <= g_rp\n",
    "        # Compute G_RVS\n",
    "        if isinstance(G, np.ndarray):\n",
    "            grvs = np.zeros_like(g_rp)\n",
    "            grvs[range_1] = f1_g_rvs[range_1] + Grp[range_1]\n",
    "            grvs[range_2] = f2_g_rvs[range_2] + Grp[range_2]\n",
    "            return grvs\n",
    "        else:\n",
    "            if range_1:\n",
    "                return f1_g_rvs + Grp\n",
    "            else:\n",
    "                return f2_g_rvs + Grp"
   ],
   "metadata": {
    "collapsed": false,
    "ExecuteTime": {
     "end_time": "2024-04-03T08:56:57.325119Z",
     "start_time": "2024-04-03T08:56:56.533581Z"
    }
   },
   "id": "6c3d725b93b2afcf",
   "execution_count": 11
  },
  {
   "cell_type": "code",
   "outputs": [
    {
     "name": "stdout",
     "output_type": "stream",
     "text": [
      "Initializing the scanning law object...\n",
      "Estimating completeness...\n",
      "CPU times: user 2.29 s, sys: 405 ms, total: 2.69 s\n",
      "Wall time: 3.05 s\n"
     ]
    }
   ],
   "source": [
    "%%time\n",
    "g_unc = GaiaUncertainties(cluster_object=cs, spline_csv='LogErrVsMagSpline.csv')"
   ],
   "metadata": {
    "collapsed": false,
    "ExecuteTime": {
     "end_time": "2024-04-03T08:57:21.901899Z",
     "start_time": "2024-04-03T08:57:18.848077Z"
    }
   },
   "id": "4cc78711cf686d5d",
   "execution_count": 13
  },
  {
   "cell_type": "code",
   "outputs": [
    {
     "name": "stdout",
     "output_type": "stream",
     "text": [
      "Total cluster mass is 999.834 (limit was 1000)\n",
      "CPU times: user 1.26 s, sys: 4.78 ms, total: 1.26 s\n",
      "Wall time: 1.51 s\n"
     ]
    }
   ],
   "source": [
    "%%time\n",
    "\n",
    "cluster_kwargs = dict(\n",
    "    mu=[500, 10, 10, 20, 20, -10],\n",
    "    cov=np.eye(6),\n",
    "    mass=1e3,\n",
    "    logAge=7.2,\n",
    "    feh=0,\n",
    "    f_bin=0.3,\n",
    ")\n",
    "\n",
    "cs.set_cluster_params(**cluster_kwargs)\n",
    "cs.simulate_cluster()\n",
    "\n",
    "g_unc.new_cluster(cs)"
   ],
   "metadata": {
    "collapsed": false,
    "ExecuteTime": {
     "end_time": "2024-04-03T08:57:32.040678Z",
     "start_time": "2024-04-03T08:57:30.532036Z"
    }
   },
   "id": "1659e3afacbf0ad4",
   "execution_count": 15
  },
  {
   "cell_type": "code",
   "outputs": [
    {
     "data": {
      "text/plain": "<Figure size 640x480 with 1 Axes>",
      "image/png": "[encoded data removed]"
     },
     "metadata": {},
     "output_type": "display_data"
    }
   ],
   "source": [
    "plt.hist(g_unc.completeness, bins=50, log=True);"
   ],
   "metadata": {
    "collapsed": false,
    "ExecuteTime": {
     "end_time": "2024-04-03T08:57:32.171230Z",
     "start_time": "2024-04-03T08:57:32.041723Z"
    }
   },
   "id": "835651e93ab405b5",
   "execution_count": 16
  },
  {
   "cell_type": "code",
   "outputs": [
    {
     "data": {
      "text/plain": "<matplotlib.colorbar.Colorbar at 0x34ba1e050>"
     },
     "execution_count": 17,
     "metadata": {},
     "output_type": "execute_result"
    },
    {
     "data": {
      "text/plain": "<Figure size 500x700 with 2 Axes>",
      "image/png": "[encoded data removed]"
     },
     "metadata": {},
     "output_type": "display_data"
    }
   ],
   "source": [
    "dat = cs.data_photometry_binaries\n",
    "\n",
    "plt.figure(figsize=(5, 7))\n",
    "plt.scatter(dat.G_BP - dat.G_RP, dat.M_G, c=g_unc.completeness, s=10)\n",
    "plt.gca().invert_yaxis()\n",
    "plt.colorbar()"
   ],
   "metadata": {
    "collapsed": false,
    "ExecuteTime": {
     "end_time": "2024-04-03T08:57:34.568250Z",
     "start_time": "2024-04-03T08:57:34.472383Z"
    }
   },
   "id": "198573a9da6a8ed",
   "execution_count": 17
  },
  {
   "cell_type": "code",
   "outputs": [
    {
     "data": {
      "text/plain": "<Figure size 640x480 with 1 Axes>",
      "image/png": "[encoded data removed]"
     },
     "metadata": {},
     "output_type": "display_data"
    }
   ],
   "source": [
    "plt.hist(cs.data_phot.mass, bins=np.logspace(-2, 2, 30)); #, g_unc.g_mag().shape\n",
    "# log x axis\n",
    "plt.gca().set_xscale('log')"
   ],
   "metadata": {
    "collapsed": false,
    "ExecuteTime": {
     "end_time": "2024-04-03T08:57:37.204602Z",
     "start_time": "2024-04-03T08:57:37.064209Z"
    }
   },
   "id": "9da6250e5e7c58c4",
   "execution_count": 18
  },
  {
   "cell_type": "markdown",
   "source": [
    "# Convolve with realistic uncertainties"
   ],
   "metadata": {
    "collapsed": false
   },
   "id": "96db7c0d12e3ce57"
  },
  {
   "cell_type": "code",
   "outputs": [],
   "source": [
    "class ErrorBase:\n",
    "    def __init__(self, unc_obj: GaiaUncertainties, astrometric_fname: str):\n",
    "        self.unc_obj = unc_obj\n",
    "        self.astrometric_mean = None\n",
    "        self.astrometric_cov = None\n",
    "        self.astrometric_corr_features = None\n",
    "        # Load the astrometric parameters\n",
    "        self.set_astrometric_params(astrometric_fname)\n",
    "        # Define the columns for the astrometric and radial velocity parameters\n",
    "        self.astrometric_errors = [\n",
    "            \"ra_error\", \"dec_error\", \"parallax_error\", \"pmra_error\", \"pmdec_error\", \"radial_velocity_error\"\n",
    "        ]\n",
    "        self.cols_mags = ['M_G', 'G_BP', 'G_RP']\n",
    "        # Define the astrometric features and errors\n",
    "        self.features = [\n",
    "            \"ra\", \"dec\", \"parallax\", \"pmra\", \"pmdec\", \"radial_velocity\", \"g_mag\", \"bp_mag\", \"rp_mag\"\n",
    "        ]\n",
    "        self.not_measured = {\n",
    "            'ra': np.isnan(self.unc_obj.ra_err),\n",
    "            'dec': np.isnan(self.unc_obj.dec_err),\n",
    "            'parallax': np.isnan(self.unc_obj.plx_err),\n",
    "            'pmra': np.isnan(self.unc_obj.pmra_err),\n",
    "            'pmdec': np.isnan(self.unc_obj.pmdec_err),\n",
    "            'radial_velocity': np.isnan(self.unc_obj.rv_err),\n",
    "            'g_mag': np.isnan(self.unc_obj.g_mag_err),\n",
    "            'bp_mag': np.isnan(self.unc_obj.bp_mag_err),\n",
    "            'rp_mag': np.isnan(self.unc_obj.rp_mag_err)\n",
    "        }\n",
    "        # Correlation positions in correlation/covariance matrix\n",
    "        self.corr_map = {\n",
    "            \"ra_dec_corr\": [0, 1],\n",
    "            \"ra_parallax_corr\": [0, 2],\n",
    "            \"ra_pmra_corr\": [0, 3],\n",
    "            \"ra_pmdec_corr\": [0, 4],\n",
    "            \"dec_parallax_corr\": [1, 2],\n",
    "            \"dec_pmra_corr\": [1, 3],\n",
    "            \"dec_pmdec_corr\": [1, 4],\n",
    "            \"parallax_pmra_corr\": [2, 3],\n",
    "            \"parallax_pmdec_corr\": [2, 4],\n",
    "            \"pmra_pmdec_corr\": [3, 4],\n",
    "        }\n",
    "        self.X = self.set_X()\n",
    "        # Prepare cov. matrix and Cholesky decomposition storage\n",
    "        self.X_err = None  # error features\n",
    "        self.C = None  # covariance matrix for \"astrometric_features\" features\n",
    "        self.L = None  # Cholesky decomposition, needed for fast sampling with numba\n",
    "        self.simulate_errors()\n",
    "        \n",
    "    def set_X(self):\n",
    "        c = self.unc_obj.cluster_object.skycoord\n",
    "        ra, dec, dist = c.ra.value, c.dec.value, c.distance.value\n",
    "        cos_dec = np.cos(np.radians(dec))\n",
    "        pmra, pmdec, rv = c.pm_ra.value * cos_dec, c.pm_dec.value, c.radial_velocity.value\n",
    "        parallax = 1000 / dist\n",
    "        # Set the astrometric features + magnitudes\n",
    "        X = np.vstack([\n",
    "            ra, dec, parallax, pmra, pmdec, rv,\n",
    "            self.unc_obj.g_mag(),\n",
    "            self.unc_obj.bp_mag(),\n",
    "            self.unc_obj.rp_mag()\n",
    "        ]).T\n",
    "        return X\n",
    " \n",
    "    def set_astrometric_params(self, fname):\n",
    "        npzfile = np.load(fname)\n",
    "        self.astrometric_mean = npzfile['mu']\n",
    "        self.astrometric_cov = npzfile['cov']\n",
    "        self.astrometric_corr_features = npzfile['features']\n",
    "\n",
    "    def simulate_astrometric_cov(self, n_samples):\n",
    "        X = np.random.multivariate_normal(self.astrometric_mean, self.astrometric_cov, n_samples)\n",
    "        df = pd.DataFrame(X, columns=self.astrometric_corr_features)\n",
    "        return df\n",
    "    \n",
    "    def run_checks(self):\n",
    "        eps = 1.e-4\n",
    "        # Correlations need to be in [-1, 1]\n",
    "        for col in self.corr_map.keys():\n",
    "            self.X_err.loc[self.X_err[col] > 1, col] = 1 - eps\n",
    "            self.X_err.loc[self.X_err[col] < -1, col] = -1 + eps\n",
    "        return\n",
    "    \n",
    "    def simulate_errors(self):\n",
    "        n_samples = self.X.shape[0]\n",
    "        self.X_err = self.simulate_astrometric_cov(n_samples)\n",
    "        # return astrometric_errors, rv_errors\n",
    "        self.run_checks()\n",
    "        self.build_covariance_matrix()\n",
    "        return\n",
    "\n",
    "    def build_covariance_matrix(self):\n",
    "        \"\"\"Create covariance matrix from input features\"\"\"\n",
    "        # Start building covariance matrix\n",
    "        nb_sources, nb_features = self.X.shape\n",
    "        self.C = np.zeros((nb_sources, nb_features, nb_features), dtype=np.float32)\n",
    "        diag = np.arange(nb_features)\n",
    "        self.C[:, 0, 0] = self.unc_obj.ra_err\n",
    "        self.C[:, 1, 1] = self.unc_obj.dec_err\n",
    "        self.C[:, 2, 2] = self.unc_obj.plx_err\n",
    "        self.C[:, 3, 3] = self.unc_obj.pmra_err\n",
    "        self.C[:, 4, 4] = self.unc_obj.pmdec_err\n",
    "        self.C[:, 5, 5] = self.unc_obj.rv_err\n",
    "        self.C[:, 6, 6] = self.unc_obj.g_mag_err\n",
    "        self.C[:, 7, 7] = self.unc_obj.bp_mag_err\n",
    "        self.C[:, 8, 8] = self.unc_obj.rp_mag_err\n",
    "        # Remove nans\n",
    "        self.C = np.nan_to_num(self.C, nan=1e3, copy=True)\n",
    "        # Squre variance -> std dev\n",
    "        self.C[:, diag, diag] = self.C[:, diag, diag] ** 2\n",
    "        # ----- Fill in off-diagonal elements -----\n",
    "        for column, (i, j) in self.corr_map.items():\n",
    "            self.C[:, i, j] = self.X_err[column].fillna(0).to_numpy(dtype=np.float32).ravel()\n",
    "            self.C[:, i, j] *= (\n",
    "                    self.C[:, i, i] * self.C[:, j, j]\n",
    "            )  # transform correlation to covariance\n",
    "            self.C[:, j, i] = self.C[:, i, j]  # fill in symmetric component        \n",
    "        # Compute Cholesky decomposition\n",
    "        epsilon = 0.0001  # Define epsilon to add small pertubation to\n",
    "        self.L = copy.deepcopy(self.C) #.copy()\n",
    "        # add small pertubation to covariance matrix, because its eigenvalues can decay\n",
    "        # very rapidly and without this stabilization the Cholesky decomposition fails\n",
    "        self.L[:, diag, diag] += epsilon\n",
    "        #  Cholesky decomposition:\n",
    "        for k in range(nb_sources):\n",
    "            # set i'th element to Cholensky decomposition of covariance matrix\n",
    "            try:\n",
    "                self.L[k, :, :] = np.linalg.cholesky(self.L[k, :, :])\n",
    "            except np.linalg.LinAlgError:\n",
    "                # Make positive definite\n",
    "                min_ev = np.linalg.eigvals(self.L[k, :, :]).min()\n",
    "                C_new = self.L[k, :, :] + (-min_ev + epsilon) * np.eye(nb_features)\n",
    "                self.L[k, :, :] = np.linalg.cholesky(C_new)\n",
    "\n",
    "    def convolve(self):\n",
    "        nb_points, nb_covfeats = self.X.shape[0], len(self.features)\n",
    "        if nb_points != self.L.shape[0]:\n",
    "            raise ValueError(\"Number of points in X and L do not match\")\n",
    "        \n",
    "        add2X = self.__new_sample(self.L, nb_points, nb_covfeats)\n",
    "        X_new = self.X + np.asarray(add2X)\n",
    "        # Check if the declination angle is out of bounds, if so we fix that\n",
    "        X_new[:, 0], X_new[:, 1] = self.transform_to_radec_bounds(\n",
    "            ra=X_new[:, 0], dec=X_new[:, 1]\n",
    "        )\n",
    "        df_new = pd.DataFrame(X_new, columns=self.features)\n",
    "        return df_new\n",
    "\n",
    "    def post_process(self, df):\n",
    "        # Simulate missing values\n",
    "        for col, isna in self.not_measured.items():\n",
    "            df.loc[isna, col] = np.nan\n",
    "        # Remove stars based on completeness estimate\n",
    "        completeness = self.unc_obj.completeness\n",
    "        rand_nb = np.random.uniform(0, 1, df.shape[0])\n",
    "        df = df.loc[rand_nb < completeness]\n",
    "        # Remove stars lifetimes less than the cluster age\n",
    "        \n",
    "        \n",
    "        \n",
    "        \n",
    "\n",
    "        \n",
    "        # Remove stars based on completeness estimate\n",
    "        self.unc_obj.completeness\n",
    "        rand_nb = np.random.uniform(0, 1, df.shape[0])\n",
    "        # Add the completeness\n",
    "        \n",
    "        return df\n",
    "\n",
    "    @staticmethod\n",
    "    def __new_sample(L, nb_points, nb_covfeats):\n",
    "        \"\"\"Sample a single data point from normal distribution\n",
    "        Here we calculate the distance we have to travel away from data point:\n",
    "        X'[i] = X[i] + sample_list[i]\n",
    "        \"\"\"\n",
    "        sample_list = list()\n",
    "        for i in range(nb_points):\n",
    "            u = np.random.normal(loc=0, scale=1, size=nb_covfeats).astype(np.float32)\n",
    "            mult = L[i] @ u\n",
    "            sample_list.append(mult)\n",
    "        return sample_list\n",
    "\n",
    "    def transform_to_radec_bounds(self, ra, dec):\n",
    "        # skycoords can deal with ra>360 or ra<0, but not with dec out of [-90, 90]\n",
    "        dec_under_range = dec < -90.0\n",
    "        dec_over_range = dec > 90.0\n",
    "        # Mirror the declination angle\n",
    "        if np.any(dec_under_range):\n",
    "            dec[dec_under_range] += 2 * (np.abs(dec[dec_under_range]) - 90)\n",
    "            ra[dec_under_range] += 180\n",
    "        if np.any(dec_over_range):\n",
    "            dec[dec_over_range] -= 2 * (np.abs(dec[dec_over_range]) - 90)\n",
    "            ra[dec_over_range] += 180\n",
    "        # Correct ra if it is out of bounds\n",
    "        ra_over_range = ra > 360\n",
    "        ra_under_range = ra < 0\n",
    "        if np.any(ra_over_range):\n",
    "            ra[ra_over_range] -= 360\n",
    "        if np.any(ra_under_range):\n",
    "            ra[ra_under_range] += 360\n",
    "        return ra, dec"
   ],
   "metadata": {
    "collapsed": false,
    "ExecuteTime": {
     "end_time": "2024-04-03T09:15:58.954614Z",
     "start_time": "2024-04-03T09:15:58.937910Z"
    }
   },
   "id": "e85f296e1b1876a1",
   "execution_count": 50
  },
  {
   "cell_type": "code",
   "outputs": [],
   "source": [
    "errs = ErrorBase(g_unc, 'astrometric_corr.npz')"
   ],
   "metadata": {
    "collapsed": false,
    "ExecuteTime": {
     "end_time": "2024-04-03T09:15:59.848159Z",
     "start_time": "2024-04-03T09:15:59.829732Z"
    }
   },
   "id": "5977b36d79c33a84",
   "execution_count": 51
  },
  {
   "cell_type": "code",
   "outputs": [],
   "source": [
    "X_obs = errs.convolve()"
   ],
   "metadata": {
    "collapsed": false,
    "ExecuteTime": {
     "end_time": "2024-04-03T09:16:00.360012Z",
     "start_time": "2024-04-03T09:16:00.350344Z"
    }
   },
   "id": "d6f15ca20f96f928",
   "execution_count": 52
  },
  {
   "cell_type": "code",
   "outputs": [
    {
     "data": {
      "text/plain": "<Figure size 640x480 with 1 Axes>",
      "image/png": "[encoded data removed]"
     },
     "metadata": {},
     "output_type": "display_data"
    }
   ],
   "source": [
    "plt.scatter(X_obs.g_mag, X_obs.parallax);"
   ],
   "metadata": {
    "collapsed": false,
    "ExecuteTime": {
     "end_time": "2024-04-03T09:17:19.530338Z",
     "start_time": "2024-04-03T09:17:19.477255Z"
    }
   },
   "id": "e80d6df2ce1192ff",
   "execution_count": 57
  },
  {
   "cell_type": "code",
   "outputs": [
    {
     "name": "stderr",
     "output_type": "stream",
     "text": [
      "/Users/ratzenboe/anaconda3/lib/python3.11/site-packages/pandas/core/arraylike.py:396: RuntimeWarning: invalid value encountered in log10\n",
      "  result = getattr(ufunc, method)(*inputs, **kwargs)\n"
     ]
    }
   ],
   "source": [
    "X_obs['M_G'] = X_obs['g_mag'] - 5 * np.log10(1000 / X_obs['parallax'] + 1)"
   ],
   "metadata": {
    "collapsed": false,
    "ExecuteTime": {
     "end_time": "2024-04-03T09:41:35.837174Z",
     "start_time": "2024-04-03T09:41:35.832987Z"
    }
   },
   "id": "58571cc08e94b7e0",
   "execution_count": 61
  },
  {
   "cell_type": "code",
   "outputs": [
    {
     "data": {
      "text/plain": "<Figure size 640x480 with 1 Axes>",
      "image/png": "[encoded data removed]"
     },
     "metadata": {},
     "output_type": "display_data"
    }
   ],
   "source": [
    "plt.scatter(X_obs.bp_mag - X_obs.rp_mag, X_obs.M_G, s=1)\n",
    "# invert y axis\n",
    "plt.gca().invert_yaxis()"
   ],
   "metadata": {
    "collapsed": false,
    "ExecuteTime": {
     "end_time": "2024-04-03T09:42:02.854795Z",
     "start_time": "2024-04-03T09:42:02.795383Z"
    }
   },
   "id": "a4c5e615ce1efda1",
   "execution_count": 63
  },
  {
   "cell_type": "code",
   "outputs": [],
   "source": [],
   "metadata": {
    "collapsed": false
   },
   "id": "a570d50af841d7e2"
  }
 ],
 "metadata": {
  "kernelspec": {
   "display_name": "Python 3",
   "language": "python",
   "name": "python3"
  },
  "language_info": {
   "codemirror_mode": {
    "name": "ipython",
    "version": 2
   },
   "file_extension": ".py",
   "mimetype": "text/x-python",
   "name": "python",
   "nbconvert_exporter": "python",
   "pygments_lexer": "ipython2",
   "version": "2.7.6"
  }
 },
 "nbformat": 4,
 "nbformat_minor": 5
}
